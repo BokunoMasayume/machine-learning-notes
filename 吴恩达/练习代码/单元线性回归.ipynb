{
 "cells": [
  {
   "cell_type": "code",
   "execution_count": 1,
   "metadata": {},
   "outputs": [],
   "source": [
    "import numpy as np\n",
    "import matplotlib.pyplot as plt"
   ]
  },
  {
   "cell_type": "code",
   "execution_count": 2,
   "metadata": {},
   "outputs": [],
   "source": [
    "import scipy"
   ]
  },
  {
   "cell_type": "code",
   "execution_count": 3,
   "metadata": {},
   "outputs": [
    {
     "data": {
      "text/plain": [
       "array([ 1.48886134,  5.9287446 , 17.42963113,  4.90837937,  6.4258772 ,\n",
       "        8.79947589,  6.61553515,  7.54741314,  9.00607073,  0.53621668,\n",
       "        3.88968126, 15.2743809 , 16.12192106, 15.66379804, 11.4112628 ,\n",
       "       15.43417602,  2.04917508,  5.60932574, 17.35291649, 14.42958721,\n",
       "       10.61466734,  4.30620452, 16.23029565,  9.77541169,  5.22985137,\n",
       "        1.41655082,  0.09135381,  3.32832441,  6.55747193,  6.17825868,\n",
       "       19.49051038,  7.12838153,  7.0191829 , 15.53092756, 14.13791874,\n",
       "       10.59583247, 13.46315638, 12.96545656,  6.31834102,  8.68541266,\n",
       "       17.98592755,  2.4993047 , 17.8485749 , 16.44817188, 18.33439411,\n",
       "        8.20077983,  7.67111969,  8.65594315, 12.62778039, 13.65543853,\n",
       "        3.35910075, 18.76489078,  1.08925487,  0.2994141 , 19.04021099,\n",
       "        8.82658347, 14.78449436, 17.84096625, 16.73193852,  1.8460058 ,\n",
       "       13.97900884,  3.72303082, 17.36657677,  0.37924093, 16.09610786,\n",
       "       10.67363701, 16.84453861,  3.63775774, 11.05837155,  4.20272012,\n",
       "       17.37662783, 14.09586804,  4.14164123,  8.96736128, 12.14439003,\n",
       "       10.43532688,  2.88704056, 17.64300191,  0.94681814, 13.37945016,\n",
       "        0.81587369,  4.0860128 , 14.15951284, 10.47982516, 14.07057374,\n",
       "       17.10691146,  2.3645578 ,  8.96909431, 19.00087113, 14.65571023,\n",
       "        9.43822426, 18.28679401,  8.17999042,  6.7546629 , 14.91501202,\n",
       "       10.00413828,  2.02033804,  4.03692902, 11.10130053,  2.35980679])"
      ]
     },
     "execution_count": 3,
     "metadata": {},
     "output_type": "execute_result"
    }
   ],
   "source": [
    "x = np.random.random((100))*20\n",
    "x"
   ]
  },
  {
   "cell_type": "code",
   "execution_count": 4,
   "metadata": {},
   "outputs": [
    {
     "data": {
      "text/plain": [
       "array([[12.98827099],\n",
       "       [21.86438127],\n",
       "       [44.94321762],\n",
       "       [19.90980079],\n",
       "       [22.90179249],\n",
       "       [27.67765774],\n",
       "       [23.24992247],\n",
       "       [25.14868581],\n",
       "       [28.07866948],\n",
       "       [11.170166  ],\n",
       "       [17.80312674],\n",
       "       [40.59620241],\n",
       "       [42.28851913],\n",
       "       [41.351606  ],\n",
       "       [32.87345443],\n",
       "       [40.88392784],\n",
       "       [14.14766131],\n",
       "       [21.24917931],\n",
       "       [44.76967416],\n",
       "       [38.87315586],\n",
       "       [31.25613814],\n",
       "       [18.66346525],\n",
       "       [42.47188254],\n",
       "       [29.58265305],\n",
       "       [20.50570183],\n",
       "       [12.90078685],\n",
       "       [10.2041846 ],\n",
       "       [16.67634149],\n",
       "       [23.1871099 ],\n",
       "       [22.40339582],\n",
       "       [49.00278549],\n",
       "       [24.31085613],\n",
       "       [24.10502753],\n",
       "       [41.1281981 ],\n",
       "       [38.28844808],\n",
       "       [31.24842135],\n",
       "       [36.95045064],\n",
       "       [35.9445465 ],\n",
       "       [22.68305638],\n",
       "       [27.46769234],\n",
       "       [46.00300154],\n",
       "       [15.02638748],\n",
       "       [45.70330573],\n",
       "       [42.97018485],\n",
       "       [46.73365476],\n",
       "       [26.46118838],\n",
       "       [25.35471167],\n",
       "       [27.32409629],\n",
       "       [35.35016508],\n",
       "       [37.38740304],\n",
       "       [16.77536904],\n",
       "       [47.55450086],\n",
       "       [12.23997387],\n",
       "       [10.60697601],\n",
       "       [48.15893597],\n",
       "       [27.67898379],\n",
       "       [39.58553954],\n",
       "       [45.7263236 ],\n",
       "       [43.46926662],\n",
       "       [13.72216299],\n",
       "       [37.98618506],\n",
       "       [17.52219754],\n",
       "       [44.76589753],\n",
       "       [10.85175289],\n",
       "       [42.28666716],\n",
       "       [31.42338678],\n",
       "       [43.76493232],\n",
       "       [17.29983275],\n",
       "       [32.13382793],\n",
       "       [18.46452062],\n",
       "       [44.76528571],\n",
       "       [38.24002251],\n",
       "       [18.30136626],\n",
       "       [28.01433572],\n",
       "       [34.29623236],\n",
       "       [30.94223352],\n",
       "       [15.82667841],\n",
       "       [45.36645346],\n",
       "       [11.98209003],\n",
       "       [36.8351962 ],\n",
       "       [11.69964831],\n",
       "       [18.26370981],\n",
       "       [38.33932567],\n",
       "       [31.02930272],\n",
       "       [38.23036353],\n",
       "       [44.25121213],\n",
       "       [14.77105671],\n",
       "       [27.96612567],\n",
       "       [48.04276399],\n",
       "       [39.33875899],\n",
       "       [28.94497756],\n",
       "       [46.58462751],\n",
       "       [26.3894253 ],\n",
       "       [23.52359396],\n",
       "       [39.8628486 ],\n",
       "       [30.01672819],\n",
       "       [14.04997553],\n",
       "       [18.15053879],\n",
       "       [32.25868734],\n",
       "       [14.76510739]])"
      ]
     },
     "execution_count": 4,
     "metadata": {},
     "output_type": "execute_result"
    }
   ],
   "source": [
    "theta_1=2\n",
    "theta_0=10\n",
    "y=theta_1*x+theta_0 + np.random.random((100))*0.1\n",
    "y=y.reshape((100,1))\n",
    "y"
   ]
  },
  {
   "cell_type": "code",
   "execution_count": 5,
   "metadata": {},
   "outputs": [
    {
     "data": {
      "text/plain": [
       "0.10630925714229533"
      ]
     },
     "execution_count": 5,
     "metadata": {},
     "output_type": "execute_result"
    }
   ],
   "source": [
    "h_theta_0=np.random.random((1))[0]\n",
    "h_theta_0"
   ]
  },
  {
   "cell_type": "code",
   "execution_count": 6,
   "metadata": {},
   "outputs": [
    {
     "data": {
      "text/plain": [
       "array([[ 1.        ,  1.48886134],\n",
       "       [ 1.        ,  5.9287446 ],\n",
       "       [ 1.        , 17.42963113],\n",
       "       [ 1.        ,  4.90837937],\n",
       "       [ 1.        ,  6.4258772 ],\n",
       "       [ 1.        ,  8.79947589],\n",
       "       [ 1.        ,  6.61553515],\n",
       "       [ 1.        ,  7.54741314],\n",
       "       [ 1.        ,  9.00607073],\n",
       "       [ 1.        ,  0.53621668],\n",
       "       [ 1.        ,  3.88968126],\n",
       "       [ 1.        , 15.2743809 ],\n",
       "       [ 1.        , 16.12192106],\n",
       "       [ 1.        , 15.66379804],\n",
       "       [ 1.        , 11.4112628 ],\n",
       "       [ 1.        , 15.43417602],\n",
       "       [ 1.        ,  2.04917508],\n",
       "       [ 1.        ,  5.60932574],\n",
       "       [ 1.        , 17.35291649],\n",
       "       [ 1.        , 14.42958721],\n",
       "       [ 1.        , 10.61466734],\n",
       "       [ 1.        ,  4.30620452],\n",
       "       [ 1.        , 16.23029565],\n",
       "       [ 1.        ,  9.77541169],\n",
       "       [ 1.        ,  5.22985137],\n",
       "       [ 1.        ,  1.41655082],\n",
       "       [ 1.        ,  0.09135381],\n",
       "       [ 1.        ,  3.32832441],\n",
       "       [ 1.        ,  6.55747193],\n",
       "       [ 1.        ,  6.17825868],\n",
       "       [ 1.        , 19.49051038],\n",
       "       [ 1.        ,  7.12838153],\n",
       "       [ 1.        ,  7.0191829 ],\n",
       "       [ 1.        , 15.53092756],\n",
       "       [ 1.        , 14.13791874],\n",
       "       [ 1.        , 10.59583247],\n",
       "       [ 1.        , 13.46315638],\n",
       "       [ 1.        , 12.96545656],\n",
       "       [ 1.        ,  6.31834102],\n",
       "       [ 1.        ,  8.68541266],\n",
       "       [ 1.        , 17.98592755],\n",
       "       [ 1.        ,  2.4993047 ],\n",
       "       [ 1.        , 17.8485749 ],\n",
       "       [ 1.        , 16.44817188],\n",
       "       [ 1.        , 18.33439411],\n",
       "       [ 1.        ,  8.20077983],\n",
       "       [ 1.        ,  7.67111969],\n",
       "       [ 1.        ,  8.65594315],\n",
       "       [ 1.        , 12.62778039],\n",
       "       [ 1.        , 13.65543853],\n",
       "       [ 1.        ,  3.35910075],\n",
       "       [ 1.        , 18.76489078],\n",
       "       [ 1.        ,  1.08925487],\n",
       "       [ 1.        ,  0.2994141 ],\n",
       "       [ 1.        , 19.04021099],\n",
       "       [ 1.        ,  8.82658347],\n",
       "       [ 1.        , 14.78449436],\n",
       "       [ 1.        , 17.84096625],\n",
       "       [ 1.        , 16.73193852],\n",
       "       [ 1.        ,  1.8460058 ],\n",
       "       [ 1.        , 13.97900884],\n",
       "       [ 1.        ,  3.72303082],\n",
       "       [ 1.        , 17.36657677],\n",
       "       [ 1.        ,  0.37924093],\n",
       "       [ 1.        , 16.09610786],\n",
       "       [ 1.        , 10.67363701],\n",
       "       [ 1.        , 16.84453861],\n",
       "       [ 1.        ,  3.63775774],\n",
       "       [ 1.        , 11.05837155],\n",
       "       [ 1.        ,  4.20272012],\n",
       "       [ 1.        , 17.37662783],\n",
       "       [ 1.        , 14.09586804],\n",
       "       [ 1.        ,  4.14164123],\n",
       "       [ 1.        ,  8.96736128],\n",
       "       [ 1.        , 12.14439003],\n",
       "       [ 1.        , 10.43532688],\n",
       "       [ 1.        ,  2.88704056],\n",
       "       [ 1.        , 17.64300191],\n",
       "       [ 1.        ,  0.94681814],\n",
       "       [ 1.        , 13.37945016],\n",
       "       [ 1.        ,  0.81587369],\n",
       "       [ 1.        ,  4.0860128 ],\n",
       "       [ 1.        , 14.15951284],\n",
       "       [ 1.        , 10.47982516],\n",
       "       [ 1.        , 14.07057374],\n",
       "       [ 1.        , 17.10691146],\n",
       "       [ 1.        ,  2.3645578 ],\n",
       "       [ 1.        ,  8.96909431],\n",
       "       [ 1.        , 19.00087113],\n",
       "       [ 1.        , 14.65571023],\n",
       "       [ 1.        ,  9.43822426],\n",
       "       [ 1.        , 18.28679401],\n",
       "       [ 1.        ,  8.17999042],\n",
       "       [ 1.        ,  6.7546629 ],\n",
       "       [ 1.        , 14.91501202],\n",
       "       [ 1.        , 10.00413828],\n",
       "       [ 1.        ,  2.02033804],\n",
       "       [ 1.        ,  4.03692902],\n",
       "       [ 1.        , 11.10130053],\n",
       "       [ 1.        ,  2.35980679]])"
      ]
     },
     "execution_count": 6,
     "metadata": {},
     "output_type": "execute_result"
    }
   ],
   "source": [
    "x_fea=np.ones((100,2))\n",
    "x_fea[:,1]=x\n",
    "x_fea"
   ]
  },
  {
   "cell_type": "code",
   "execution_count": 7,
   "metadata": {},
   "outputs": [],
   "source": [
    "h_theta_1=-2\n",
    "theta=np.array([[h_theta_0,h_theta_1]])\n",
    "delta=0.001\n",
    "alpha=0.01\n",
    "prev_j=100000\n",
    "tmp_j=0\n",
    "tmp_0=h_theta_0\n",
    "tmp_1=h_theta_1"
   ]
  },
  {
   "cell_type": "code",
   "execution_count": 8,
   "metadata": {},
   "outputs": [
    {
     "name": "stdout",
     "output_type": "stream",
     "text": [
      "1483.3292563588404\n"
     ]
    }
   ],
   "source": [
    "a= x_fea.dot(theta.T)-y\n",
    "\n",
    "prev_j=a.T.dot(a)[0,0]/200\n",
    "print(prev_j)\n",
    "#i=0"
   ]
  },
  {
   "cell_type": "code",
   "execution_count": 9,
   "metadata": {},
   "outputs": [
    {
     "name": "stdout",
     "output_type": "stream",
     "text": [
      "the real paratmers are %s  %s\n",
      " 10 2\n",
      "function gets the para are %s  %s\n",
      " 8.81866659057778 2.092725362614752\n"
     ]
    }
   ],
   "source": [
    "while True:\n",
    "    #i+=1\n",
    "    #a = x_fea.dot(theta.T) - y\n",
    "    tmp_0 = h_theta_0-(alpha/100)*(a.T.dot(x_fea[:,0].reshape((100,1)))[0,0])\n",
    "    #print(\"tmp_0\",tmp_0)\n",
    "    tmp_1 = h_theta_1 -(alpha/100)*(a.T.dot(x_fea[:,1].reshape((100,1)))[0,0])\n",
    "    h_theta_0=tmp_0\n",
    "    h_theta_1=tmp_1\n",
    "    theta=np.array([[h_theta_0,h_theta_1]])\n",
    "    \n",
    "    a = x_fea.dot(theta.T) - y\n",
    "    tmp_j=a.T.dot(a)[0,0]/200\n",
    "    #print(\"tmp_j   \",tmp_j)\n",
    "    if (prev_j-tmp_j)<0:\n",
    "        print(\"choose lower alpha\\n\")\n",
    "        break\n",
    "    elif (prev_j-tmp_j)>delta:\n",
    "        prev_j=tmp_j\n",
    "    else:\n",
    "        print(\"the real paratmers are %s  %s\\n\",theta_0,theta_1)\n",
    "        print(\"function gets the para are %s  %s\\n\",h_theta_0,h_theta_1)\n",
    "        break"
   ]
  },
  {
   "cell_type": "code",
   "execution_count": 10,
   "metadata": {},
   "outputs": [
    {
     "data": {
      "image/png": "[encoded data removed]",
      "text/plain": [
       "<Figure size 432x288 with 1 Axes>"
      ]
     },
     "metadata": {},
     "output_type": "display_data"
    }
   ],
   "source": [
    "plt.plot(x,y)\n",
    "plt.plot(x,h_theta_1*x+h_theta_0)\n",
    "plt.legend(['real','regression'])\n",
    "plt.show()"
   ]
  },
  {
   "cell_type": "code",
   "execution_count": null,
   "metadata": {},
   "outputs": [],
   "source": []
  }
 ],
 "metadata": {
  "kernelspec": {
   "display_name": "Python 3",
   "language": "python",
   "name": "python3"
  },
  "language_info": {
   "codemirror_mode": {
    "name": "ipython",
    "version": 3
   },
   "file_extension": ".py",
   "mimetype": "text/x-python",
   "name": "python",
   "nbconvert_exporter": "python",
   "pygments_lexer": "ipython3",
   "version": "3.6.5"
  }
 },
 "nbformat": 4,
 "nbformat_minor": 2
}
