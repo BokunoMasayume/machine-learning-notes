{
 "cells": [
  {
   "cell_type": "markdown",
   "metadata": {
    "slideshow": {
     "slide_type": "-"
    }
   },
   "source": [
    "# 导入jupyter notebook 作为模块\n",
    "\n",
    "有一个很大众的问题就是人们希望从Jupyter Notebooks导入代码。因为Notebooks不是平常的Python文件，所以这有点困难---它不能被标准Python组织导入。\n",
    "\n",
    "\n",
    "幸运的是，Python在导入组织中提供了非常精巧的“钩子”`(hooks)`，因此我们可以只使用公共API，轻松的导入Jupyter Notebooks。"
   ]
  },
  {
   "cell_type": "markdown",
   "metadata": {},
   "source": [
    ">ps: `!jupyter nbconvert mnist_loader.ipynb --to slides --post serve`\n",
    "用来生成ppt...点阵图，非常低清orz"
   ]
  },
  {
   "cell_type": "code",
   "execution_count": 1,
   "metadata": {},
   "outputs": [],
   "source": [
    "import io, os, sys, types"
   ]
  },
  {
   "cell_type": "code",
   "execution_count": 2,
   "metadata": {},
   "outputs": [],
   "source": [
    "from IPython import get_ipython\n",
    "from nbformat import read\n",
    "from IPython.core.interactiveshell import InteractiveShell"
   ]
  },
  {
   "cell_type": "markdown",
   "metadata": {},
   "source": [
    "导入钩子通常以两个对象的形式：\n",
    "    1. 一个模块加载器（**Module Loader**），拿取一个模块名字，比如IPython.display，然后返回一个模块\n",
    "    2. 一个模块寻找器（**Module Finder**），搞清楚一个模块是否存在，然后告诉Python用哪个**Loader**"
   ]
  },
  {
   "cell_type": "code",
   "execution_count": 3,
   "metadata": {},
   "outputs": [],
   "source": [
    "def find_notebook(fullname ,path=None):\n",
    "    \"\"\"\n",
    "    找到已知名字和可选路径的Notebook\n",
    "    \n",
    "    把\"foo.bar\"变成\"foo/bar.ipynb\"\n",
    "    如果\"Foo_Bar\"不存在，会试着把\"Foo_Bar\"变成\"Foo Bar\"\n",
    "    \"\"\"\n",
    "    name = fullname.rsplit('.',1)[-1]\n",
    "    if not path:\n",
    "        path=['']\n",
    "    \n",
    "    for d in path:\n",
    "        nb_path = os.path.join(d,name+\".ipynb\")\n",
    "        if os.path.isfile(nb_path):\n",
    "            return nb_path\n",
    "        nb_path = nb_path.replace(\"_\",\" \")\n",
    "        if os.path.isfile(nb_path):\n",
    "            return nb_path"
   ]
  },
  {
   "cell_type": "markdown",
   "metadata": {},
   "source": [
    "## 笔记加载器\n",
    "在这里我们有我们的Noteboook Loader。它很简单--只要我们弄清楚了模块的文件名，它要做的只是：\n",
    "    1. 把笔记文档加载到内存\n",
    "    2. 创建一个空的模块\n",
    "    3. 执行模块命名空间的每个单元格\n",
    "    \n",
    "因为IPython 单元格可以有扩展语法，IPython变换用来在执行之前把这些单元格的每一个变成他们的纯Pyton副本。如果你的Notebook单元格就是纯Python的，那这步就没必要了。\n"
   ]
  },
  {
   "cell_type": "code",
   "execution_count": 4,
   "metadata": {},
   "outputs": [],
   "source": [
    "class NotebookLoader(object):\n",
    "    def __init__(self,path=None):\n",
    "        self.shell = InteractiveShell.instance()\n",
    "        self.path = path\n",
    "        \n",
    "    def load_module(self,fullname):\n",
    "        path = find_notebook(fullname,self.path)\n",
    "        \n",
    "        print(\"importing Jupyter notebook from %s\" % path)\n",
    "        \n",
    "        with io.open(path,'r',encoding='utf-8') as f:\n",
    "            nb = read(f,4)\n",
    "            \n",
    "        \n",
    "        #创建模块，并把它加入 sys.modules\n",
    "        #如果 name 在 sys.modules:\n",
    "        #    return sys.modules[name]\n",
    "        mod = types.ModuleType(fullname)\n",
    "        mod.__file__ = path\n",
    "        mod.__loader__  = self\n",
    "        mod.__dict__['get_ipython'] = get_ipython\n",
    "        sys.modules[fullname] = mod\n",
    "        \n",
    "        #额外的工作确保对 user_ns 有影响\n",
    "        #确实影响到 notebook module's ns\n",
    "        save_user_ns = self.shell.user_ns\n",
    "        self.shell.user_ns = mod.__dict__\n",
    "        \n",
    "        try:\n",
    "            for cell in nb.cells:\n",
    "                if cell.cell_type == 'code':\n",
    "                    code = self.shell.input_transformer_manager.transform_cell(cell.source)\n",
    "                    exec(code , mod.__dict__)\n",
    "        finally:\n",
    "            self.shell.user_ns = save_user_ns\n",
    "        return mod"
   ]
  },
  {
   "cell_type": "markdown",
   "metadata": {},
   "source": [
    "## 模块寻找器\n",
    "寻找器是个简单的对象，它告诉你一个name 能否被import ，并返回相应的加载器。它做的事就是当你\n",
    "```\n",
    "import mynotebook\n",
    "```\n",
    "时做检查。它检查 mynotebook.ipynb 是否存在。如果找着了，返回一个笔记加载器。\n",
    "\n",
    "一个额外的逻辑是用来解决packages里的路径"
   ]
  },
  {
   "cell_type": "code",
   "execution_count": 7,
   "metadata": {},
   "outputs": [],
   "source": [
    "class NotebookFinder(object):\n",
    "    def __init__(self):\n",
    "        self.loaders={}\n",
    "        \n",
    "    def find_module(self,fullname,path=None):\n",
    "        nb_path = find_notebook(fullname,path)\n",
    "        if not nb_path:\n",
    "            return\n",
    "        key = path\n",
    "        if path:\n",
    "            key = os.path.sep.join(path)\n",
    "            \n",
    "        if key not in self.loaders:\n",
    "            self.loaders[key] = NotebookLoader(path)\n",
    "        return self.loaders[key]"
   ]
  },
  {
   "cell_type": "markdown",
   "metadata": {},
   "source": [
    "## 注册钩子\n"
   ]
  },
  {
   "cell_type": "code",
   "execution_count": 8,
   "metadata": {},
   "outputs": [],
   "source": [
    "sys.meta_path.append(NotebookFinder())"
   ]
  },
  {
   "cell_type": "markdown",
   "metadata": {},
   "source": [
    "原文：<https://jupyter-notebook.readthedocs.io/en/latest/examples/Notebook/Importing%20Notebooks.html>\n"
   ]
  }
 ],
 "metadata": {
  "kernelspec": {
   "display_name": "Python 3",
   "language": "python",
   "name": "python3"
  },
  "language_info": {
   "codemirror_mode": {
    "name": "ipython",
    "version": 3
   },
   "file_extension": ".py",
   "mimetype": "text/x-python",
   "name": "python",
   "nbconvert_exporter": "python",
   "pygments_lexer": "ipython3",
   "version": "3.6.5"
  }
 },
 "nbformat": 4,
 "nbformat_minor": 2
}
