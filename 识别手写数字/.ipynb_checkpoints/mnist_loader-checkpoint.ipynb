{
 "cells": [
  {
   "cell_type": "code",
   "execution_count": 2,
   "metadata": {
    "slideshow": {
     "slide_type": "subslide"
    }
   },
   "outputs": [],
   "source": [
    "import pickle\n",
    "import gzip"
   ]
  },
  {
   "cell_type": "code",
   "execution_count": 3,
   "metadata": {
    "slideshow": {
     "slide_type": "fragment"
    }
   },
   "outputs": [],
   "source": [
    "import numpy as np"
   ]
  },
  {
   "cell_type": "code",
   "execution_count": 4,
   "metadata": {
    "slideshow": {
     "slide_type": "subslide"
    }
   },
   "outputs": [],
   "source": [
    "def load_data():\n",
    "    \"\"\"\n",
    "    返回MNIST数据的元组，包含训练数据，验证数据和测试数据。\n",
    "    \n",
    "    ''训练数据''被返回为有两个项的元组。\n",
    "    第一项包含实际的训练图片。这是有50,000个项的numpy ndarray。每个项是一个有784个值的Numpy ndarray,\n",
    "    代表了一个MNIST图像的28*28=784个像素。\n",
    "    \n",
    "    训练数据元组的第二项是有50,000个项的numpy ndarray。这些项就是包含在元组第一项的对应图像的数字值(0...9).\n",
    "    \n",
    "    ''验证数据''和''测试数据''同理，但他们每个只包含了10,000个图片。\n",
    "    \n",
    "    这是个挺好的数据格式，但为了更好的在神经网络里使用它要对''训练数据''的 格式稍作修改。\n",
    "    \n",
    "    修改在包装函数''load_data_wrapper()''里进行。\n",
    "    \"\"\"\n",
    "    f = gzip.open('data/mnist.pkl.gz','rb')\n",
    "    training_data,validation_data,test_data=pickle.load(f,encoding='bytes')#唉呀妈呀，这个地方坑死我啦，百度的，回头查一下这个method\n",
    "    f.close()\n",
    "    return (training_data,validation_data,test_data)\n",
    "\n"
   ]
  },
  {
   "cell_type": "code",
   "execution_count": 5,
   "metadata": {
    "slideshow": {
     "slide_type": "subslide"
    }
   },
   "outputs": [],
   "source": [
    "def load_data_wrapper():\n",
    "    \"\"\"\n",
    "    返回一个包含''(training_data,validation_data,test_data)''的元组。\n",
    "    基于''load_data''函数，但格式更方便神经网络执行时使用。\n",
    "    \n",
    "    特别的，''training_data''是一个包含着50,000个2-元组''(x,y)''的列表。\n",
    "    ''x''是一个包含输入图片的784维的numpy ndarray。\n",
    "    ''y''是一个十维的numpy ndarray，代表着对应''x''的正确数字的单元向量。\n",
    "    \n",
    "    ''validation_data''和''test_data''是包含着10,000个2-元组的列表。\n",
    "    ''x''是784维的numpy ndarray，''y''是对应的分类（一个整数）。\n",
    "    \n",
    "    显然，这意味着我们使用有轻微不同的training_data和validation/test data。\n",
    "    这是在我们的神经网络代码中用起来最舒服的格式化。\n",
    "    \"\"\"\n",
    "    tr_d,va_d,te_d = load_data()\n",
    "    training_inputs = [np.reshape(x,(784,1)) for x in tr_d[0]]\n",
    "    training_results = [vectorized_result(y) for y in tr_d[1]]\n",
    "    training_data = list(zip(training_inputs , training_results))\n",
    "    \n",
    "    validation_inputs = [np.reshape(x,(784,1)) for x in va_d[0]]\n",
    "    validation_data = list(zip(validation_inputs , va_d[1]))\n",
    "    \n",
    "    test_inputs = [np.reshape(x,(784,1)) for x in te_d[0]]\n",
    "    test_data = list(zip(test_inputs , te_d[1]))\n",
    "    \n",
    "    return (training_data,validation_data,test_data)"
   ]
  },
  {
   "cell_type": "code",
   "execution_count": 6,
   "metadata": {
    "slideshow": {
     "slide_type": "subslide"
    }
   },
   "outputs": [],
   "source": [
    "def vectorized_result(j):\n",
    "    \"\"\"\n",
    "    返回一个在第''j''位是1.0 ，在其他位是0的单元向量。\n",
    "    这用来转换一个数字（0...9）到相应顶点神经网络的期望输出。\n",
    "    \"\"\"\n",
    "    e = np.zeros((10,1))\n",
    "    e[j] = 1.0\n",
    "    return e"
   ]
  },
  {
   "cell_type": "code",
   "execution_count": 15,
   "metadata": {
    "slideshow": {
     "slide_type": "subslide"
    }
   },
   "outputs": [],
   "source": [
    "def say_hello():\n",
    "    print(\"Hello World!\")"
   ]
  },
  {
   "cell_type": "code",
   "execution_count": null,
   "metadata": {},
   "outputs": [],
   "source": []
  }
 ],
 "metadata": {
  "kernelspec": {
   "display_name": "Python 3",
   "language": "python",
   "name": "python3"
  },
  "language_info": {
   "codemirror_mode": {
    "name": "ipython",
    "version": 3
   },
   "file_extension": ".py",
   "mimetype": "text/x-python",
   "name": "python",
   "nbconvert_exporter": "python",
   "pygments_lexer": "ipython3",
   "version": "3.6.5"
  }
 },
 "nbformat": 4,
 "nbformat_minor": 2
}
